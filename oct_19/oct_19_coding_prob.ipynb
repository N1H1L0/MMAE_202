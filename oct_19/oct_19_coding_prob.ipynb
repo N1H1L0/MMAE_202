{
 "cells": [
  {
   "cell_type": "code",
   "execution_count": 6,
   "metadata": {},
   "outputs": [
    {
     "name": "stdout",
     "output_type": "stream",
     "text": [
      "a is approximately 1.8106601717798207\n",
      "b is approximately 1.268629150121589\n"
     ]
    }
   ],
   "source": [
    "from scipy.integrate import quad\n",
    "import numpy as np\n",
    "\n",
    "def f1(x):\n",
    "  return x**2\n",
    "\n",
    "x1 = 0 \n",
    "x2 = 2\n",
    "\n",
    "f1_integral_value, f1_error_estimate = quad(f1, x1, x2)\n",
    "\n",
    "\n",
    "def f2(x):\n",
    "  return (-x**2)+8\n",
    "\n",
    "x3 = np.sqrt(8)\n",
    "\n",
    "f2_integral_value, f2_error_estimate = quad(f2, x2, x3)\n",
    "\n",
    "def f3(x):\n",
    "  return x*(f1(x))\n",
    "\n",
    "f3_integral_value, f3_error_estimate = quad(f3, x1, x2)\n",
    "\n",
    "\n",
    "def f4(x):\n",
    "  return x*(f2(x))\n",
    "\n",
    "f4_integral_value, f4_error_estimate = quad(f4, x2, x3)\n",
    "\n",
    "a1 = f3_integral_value/f1_integral_value\n",
    "a2 = f4_integral_value/f2_integral_value\n",
    "\n",
    "a = ((a1*f1_integral_value) + (a2*f2_integral_value))/(f1_integral_value + f2_integral_value)\n",
    "\n",
    "print(f\"a is approximately {a}\")\n",
    "\n",
    "\n",
    "def fy(y):\n",
    "  return y * (np.sqrt(8-y) - np.sqrt(y))\n",
    "\n",
    "y0 = 0 \n",
    "y1 = 4\n",
    "\n",
    "fy_integral_value, fy_error_estimate = quad(fy, y0, y1)\n",
    "\n",
    "b = (fy_integral_value)/(f1_integral_value + f2_integral_value)\n",
    "\n",
    "print(f\"b is approximately {b}\")\n",
    "\n",
    "\n",
    "\n"
   ]
  }
 ],
 "metadata": {
  "kernelspec": {
   "display_name": "Python 3",
   "language": "python",
   "name": "python3"
  },
  "language_info": {
   "codemirror_mode": {
    "name": "ipython",
    "version": 3
   },
   "file_extension": ".py",
   "mimetype": "text/x-python",
   "name": "python",
   "nbconvert_exporter": "python",
   "pygments_lexer": "ipython3",
   "version": "3.11.4"
  },
  "orig_nbformat": 4
 },
 "nbformat": 4,
 "nbformat_minor": 2
}
