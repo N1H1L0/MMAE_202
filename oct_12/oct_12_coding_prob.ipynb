{
 "cells": [
  {
   "cell_type": "code",
   "execution_count": 22,
   "metadata": {},
   "outputs": [
    {
     "name": "stdout",
     "output_type": "stream",
     "text": [
      "A is approximately 5.333333\n",
      "a is approximately 1.500000\n",
      "b is approximately 2.400000\n"
     ]
    }
   ],
   "source": [
    "from scipy.integrate import quad\n",
    "import numpy as np\n",
    "\n",
    "def f1(x):\n",
    "  return 2*x**2\n",
    "\n",
    "x1 = 0 \n",
    "x2 = 2\n",
    "\n",
    "f1_integral_value, f1_error_estimate = quad(f1, x1, x2)\n",
    "\n",
    "\n",
    "print(f\"A is approximately {f1_integral_value:.6f}\")\n",
    "\n",
    "def f2(x):\n",
    "  return 2*x**3\n",
    "\n",
    "f2_integral_value, f2_error_estimate = quad(f2, x1, x2)\n",
    "\n",
    "a = f2_integral_value/f1_integral_value\n",
    "\n",
    "print(f\"a is approximately {a:.6f}\")\n",
    "\n",
    "\n",
    "def f3(y):\n",
    "  return (2-np.sqrt(y/2))*y\n",
    "\n",
    "y1 = 0 \n",
    "y2 = 8\n",
    "\n",
    "f3_integral_value, f3_error_estimate = quad(f3, y1, y2)\n",
    "\n",
    "b = (f3_integral_value)/f1_integral_value\n",
    "\n",
    "print(f\"b is approximately {b:.6f}\")\n",
    "\n",
    "\n",
    "\n"
   ]
  }
 ],
 "metadata": {
  "kernelspec": {
   "display_name": "Python 3",
   "language": "python",
   "name": "python3"
  },
  "language_info": {
   "codemirror_mode": {
    "name": "ipython",
    "version": 3
   },
   "file_extension": ".py",
   "mimetype": "text/x-python",
   "name": "python",
   "nbconvert_exporter": "python",
   "pygments_lexer": "ipython3",
   "version": "3.11.4"
  },
  "orig_nbformat": 4
 },
 "nbformat": 4,
 "nbformat_minor": 2
}
