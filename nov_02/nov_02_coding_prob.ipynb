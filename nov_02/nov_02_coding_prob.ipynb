{
 "cells": [
  {
   "cell_type": "code",
   "execution_count": 1,
   "metadata": {},
   "outputs": [
    {
     "name": "stdout",
     "output_type": "stream",
     "text": [
      "area in m =  1.007199679595211\n",
      "mass in kg =  10.07199679595211\n",
      "X value of the centroid in m =   0.9007083852027222\n",
      "Y value of centroid in m = 0\n",
      "Tension in N =  34.40169432554296\n"
     ]
    }
   ],
   "source": [
    "import pandas as pd\n",
    "import numpy as np\n",
    "from numpy import trapz\n",
    "\n",
    "points = pd.read_excel(\"sampled_points.xlsx\", engine = \"openpyxl\")\n",
    "\n",
    "x = points[\"x\"].values\n",
    "y = points[\"y\"].values\n",
    "\n",
    "area = 2*trapz(y, dx = 0.01634)\n",
    "\n",
    "print(\"area in m = \" , area)\n",
    "\n",
    "mass = 10*area\n",
    "\n",
    "print(\"mass in kg = \" , mass)\n",
    "\n",
    "A_top = 2*trapz(x*y, dx = 0.01634)\n",
    "\n",
    "\n",
    "A = A_top/area\n",
    "\n",
    "\n",
    "print(\"X value of the centroid in m =  \" , A)\n",
    "print(\"Y value of centroid in m = 0\")\n",
    "\n",
    "alpha = np.arccos(1/1.618)\n",
    "\n",
    "T = ((1.618 - A) * (mass * 9.8) * np.cos(alpha)) / ((1.618) *np.sin(alpha))\n",
    "\n",
    "print(\"Tension in N = \" , T)\n",
    "\n",
    "\n"
   ]
  }
 ],
 "metadata": {
  "kernelspec": {
   "display_name": "Python 3",
   "language": "python",
   "name": "python3"
  },
  "language_info": {
   "codemirror_mode": {
    "name": "ipython",
    "version": 3
   },
   "file_extension": ".py",
   "mimetype": "text/x-python",
   "name": "python",
   "nbconvert_exporter": "python",
   "pygments_lexer": "ipython3",
   "version": "3.11.4"
  }
 },
 "nbformat": 4,
 "nbformat_minor": 2
}
